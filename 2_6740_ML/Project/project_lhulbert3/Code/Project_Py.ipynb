{
 "cells": [
  {
   "cell_type": "markdown",
   "metadata": {
    "deletable": true,
    "editable": true
   },
   "source": [
    "## Read in Data:"
   ]
  },
  {
   "cell_type": "code",
   "execution_count": 1,
   "metadata": {
    "collapsed": true,
    "deletable": true,
    "editable": true
   },
   "outputs": [],
   "source": [
    "import numpy as np \n",
    "import pandas as pd\n",
    "import re\n",
    "from IPython.display import display, HTML"
   ]
  },
  {
   "cell_type": "code",
   "execution_count": 2,
   "metadata": {
    "collapsed": false,
    "deletable": true,
    "editable": true
   },
   "outputs": [],
   "source": [
    "train_all = pd.read_csv(\"train_df_more_variables.csv\")   #this one had NAs\n",
    "train_all = pd.read_csv(\"train_more_variables_notempNAs_noStore35.csv\")   #this one doesn't\n",
    "del train_all[\"Unnamed: 0\"]"
   ]
  },
  {
   "cell_type": "code",
   "execution_count": 3,
   "metadata": {
    "collapsed": true,
    "deletable": true,
    "editable": true
   },
   "outputs": [],
   "source": [
    "#all useful columns (some have NAs):\n",
    "train_useful = train_all[['units', 'store_nbr', 'item_nbr', 'Before3', 'Before2', 'Before1',\n",
    "       'any_event', 'After1', 'After2', 'After3', 'sales_3_10_days_before',\n",
    "       'month', 'is_weekend', 'is_winter', 'leapday', 'before_Valentines',\n",
    "       'before_4July', 'is_holiday', 'tmax', 'tmin', 'tavg', 'dewpoint',\n",
    "       'heat', 'resultspeed', 'resultdir', 'avgspeed', 'rain_numeric',\n",
    "       'before_Xmas', 'before_Memorial', 'before_NewYears', 'BlackFriday',\n",
    "       'before_Thanksgiving', 'before_Easter', 'before_Halloween']]\n"
   ]
  },
  {
   "cell_type": "code",
   "execution_count": 107,
   "metadata": {
    "collapsed": true,
    "deletable": true,
    "editable": true
   },
   "outputs": [],
   "source": [
    "#columns with no NAs:\n",
    "train_useful =train_all[[\"units\", \"store_nbr\", \"item_nbr\",\"Before3\",\"Before2\", \"Before1\", \"any_event\", \n",
    "                         \"After1\", \"After2\", \"After3\", \"month\", \"tmin\", \"tavg\", \"tmax\", \"is_weekend\",\n",
    "                         \"is_winter\" , \"leapday\", \"before_Valentines\" , \"before_4July\" ,\n",
    "                         \"is_holiday\", \"before_Xmas\", \"before_Memorial\" , \"before_NewYears\",  \"BlackFriday\" , \"before_Thanksgiving\",\n",
    "                         \"before_Easter\" , \"before_Halloween\" ]]\n",
    "#removed dewpoint, result speed & result dir, avg speed cuz wasn't very significant in the regressino model "
   ]
  },
  {
   "cell_type": "code",
   "execution_count": 108,
   "metadata": {
    "collapsed": false,
    "deletable": true,
    "editable": true
   },
   "outputs": [
    {
     "data": {
      "text/html": [
       "<div>\n",
       "<table border=\"1\" class=\"dataframe\">\n",
       "  <thead>\n",
       "    <tr style=\"text-align: right;\">\n",
       "      <th></th>\n",
       "      <th>units</th>\n",
       "      <th>store_nbr</th>\n",
       "      <th>item_nbr</th>\n",
       "      <th>Before3</th>\n",
       "      <th>Before2</th>\n",
       "      <th>Before1</th>\n",
       "      <th>any_event</th>\n",
       "      <th>After1</th>\n",
       "      <th>After2</th>\n",
       "      <th>After3</th>\n",
       "      <th>...</th>\n",
       "      <th>before_Valentines</th>\n",
       "      <th>before_4July</th>\n",
       "      <th>is_holiday</th>\n",
       "      <th>before_Xmas</th>\n",
       "      <th>before_Memorial</th>\n",
       "      <th>before_NewYears</th>\n",
       "      <th>BlackFriday</th>\n",
       "      <th>before_Thanksgiving</th>\n",
       "      <th>before_Easter</th>\n",
       "      <th>before_Halloween</th>\n",
       "    </tr>\n",
       "  </thead>\n",
       "  <tbody>\n",
       "    <tr>\n",
       "      <th>0</th>\n",
       "      <td>29</td>\n",
       "      <td>1</td>\n",
       "      <td>9</td>\n",
       "      <td>0</td>\n",
       "      <td>0</td>\n",
       "      <td>0</td>\n",
       "      <td>0</td>\n",
       "      <td>0</td>\n",
       "      <td>0</td>\n",
       "      <td>0</td>\n",
       "      <td>...</td>\n",
       "      <td>0</td>\n",
       "      <td>0</td>\n",
       "      <td>1</td>\n",
       "      <td>0</td>\n",
       "      <td>0</td>\n",
       "      <td>1</td>\n",
       "      <td>0</td>\n",
       "      <td>0</td>\n",
       "      <td>0</td>\n",
       "      <td>0</td>\n",
       "    </tr>\n",
       "    <tr>\n",
       "      <th>1</th>\n",
       "      <td>2</td>\n",
       "      <td>1</td>\n",
       "      <td>28</td>\n",
       "      <td>0</td>\n",
       "      <td>0</td>\n",
       "      <td>0</td>\n",
       "      <td>0</td>\n",
       "      <td>0</td>\n",
       "      <td>0</td>\n",
       "      <td>0</td>\n",
       "      <td>...</td>\n",
       "      <td>0</td>\n",
       "      <td>0</td>\n",
       "      <td>1</td>\n",
       "      <td>0</td>\n",
       "      <td>0</td>\n",
       "      <td>1</td>\n",
       "      <td>0</td>\n",
       "      <td>0</td>\n",
       "      <td>0</td>\n",
       "      <td>0</td>\n",
       "    </tr>\n",
       "    <tr>\n",
       "      <th>2</th>\n",
       "      <td>1</td>\n",
       "      <td>1</td>\n",
       "      <td>51</td>\n",
       "      <td>0</td>\n",
       "      <td>0</td>\n",
       "      <td>0</td>\n",
       "      <td>0</td>\n",
       "      <td>0</td>\n",
       "      <td>0</td>\n",
       "      <td>0</td>\n",
       "      <td>...</td>\n",
       "      <td>0</td>\n",
       "      <td>0</td>\n",
       "      <td>1</td>\n",
       "      <td>0</td>\n",
       "      <td>0</td>\n",
       "      <td>1</td>\n",
       "      <td>0</td>\n",
       "      <td>0</td>\n",
       "      <td>0</td>\n",
       "      <td>0</td>\n",
       "    </tr>\n",
       "    <tr>\n",
       "      <th>3</th>\n",
       "      <td>191</td>\n",
       "      <td>2</td>\n",
       "      <td>5</td>\n",
       "      <td>0</td>\n",
       "      <td>0</td>\n",
       "      <td>0</td>\n",
       "      <td>0</td>\n",
       "      <td>0</td>\n",
       "      <td>0</td>\n",
       "      <td>0</td>\n",
       "      <td>...</td>\n",
       "      <td>0</td>\n",
       "      <td>0</td>\n",
       "      <td>1</td>\n",
       "      <td>0</td>\n",
       "      <td>0</td>\n",
       "      <td>1</td>\n",
       "      <td>0</td>\n",
       "      <td>0</td>\n",
       "      <td>0</td>\n",
       "      <td>0</td>\n",
       "    </tr>\n",
       "    <tr>\n",
       "      <th>4</th>\n",
       "      <td>215</td>\n",
       "      <td>2</td>\n",
       "      <td>44</td>\n",
       "      <td>0</td>\n",
       "      <td>0</td>\n",
       "      <td>0</td>\n",
       "      <td>0</td>\n",
       "      <td>0</td>\n",
       "      <td>0</td>\n",
       "      <td>0</td>\n",
       "      <td>...</td>\n",
       "      <td>0</td>\n",
       "      <td>0</td>\n",
       "      <td>1</td>\n",
       "      <td>0</td>\n",
       "      <td>0</td>\n",
       "      <td>1</td>\n",
       "      <td>0</td>\n",
       "      <td>0</td>\n",
       "      <td>0</td>\n",
       "      <td>0</td>\n",
       "    </tr>\n",
       "  </tbody>\n",
       "</table>\n",
       "<p>5 rows × 27 columns</p>\n",
       "</div>"
      ],
      "text/plain": [
       "   units  store_nbr  item_nbr  Before3  Before2  Before1  any_event  After1  \\\n",
       "0     29          1         9        0        0        0          0       0   \n",
       "1      2          1        28        0        0        0          0       0   \n",
       "2      1          1        51        0        0        0          0       0   \n",
       "3    191          2         5        0        0        0          0       0   \n",
       "4    215          2        44        0        0        0          0       0   \n",
       "\n",
       "   After2  After3        ...         before_Valentines  before_4July  \\\n",
       "0       0       0        ...                         0             0   \n",
       "1       0       0        ...                         0             0   \n",
       "2       0       0        ...                         0             0   \n",
       "3       0       0        ...                         0             0   \n",
       "4       0       0        ...                         0             0   \n",
       "\n",
       "   is_holiday  before_Xmas  before_Memorial  before_NewYears  BlackFriday  \\\n",
       "0           1            0                0                1            0   \n",
       "1           1            0                0                1            0   \n",
       "2           1            0                0                1            0   \n",
       "3           1            0                0                1            0   \n",
       "4           1            0                0                1            0   \n",
       "\n",
       "   before_Thanksgiving  before_Easter  before_Halloween  \n",
       "0                    0              0                 0  \n",
       "1                    0              0                 0  \n",
       "2                    0              0                 0  \n",
       "3                    0              0                 0  \n",
       "4                    0              0                 0  \n",
       "\n",
       "[5 rows x 27 columns]"
      ]
     },
     "execution_count": 108,
     "metadata": {},
     "output_type": "execute_result"
    }
   ],
   "source": [
    "train_useful.head()"
   ]
  },
  {
   "cell_type": "markdown",
   "metadata": {
    "deletable": true,
    "editable": true
   },
   "source": [
    "## One Hot Encoding:"
   ]
  },
  {
   "cell_type": "code",
   "execution_count": 109,
   "metadata": {
    "collapsed": false,
    "deletable": true,
    "editable": true
   },
   "outputs": [],
   "source": [
    "from sklearn.preprocessing import OneHotEncoder\n",
    "enc = OneHotEncoder()\n",
    "\n",
    "enc.fit(train_useful[\"store_nbr\"].values.reshape(-1,1))\n",
    "store_encoded = enc.transform(train_useful[\"store_nbr\"].values.reshape(-1,1)).toarray()\n",
    "\n",
    "enc.fit(train_useful[\"item_nbr\"].values.reshape(-1,1))\n",
    "item_encoded = enc.transform(train_useful[\"item_nbr\"].values.reshape(-1,1)).toarray()"
   ]
  },
  {
   "cell_type": "code",
   "execution_count": 110,
   "metadata": {
    "collapsed": true,
    "deletable": true,
    "editable": true
   },
   "outputs": [],
   "source": [
    "train_useful = np.concatenate((train_useful, store_encoded),axis =1)\n",
    "train_useful = np.concatenate((train_useful, item_encoded),axis =1)\n",
    "train_useful = pd.DataFrame(train_useful)"
   ]
  },
  {
   "cell_type": "code",
   "execution_count": 111,
   "metadata": {
    "collapsed": true,
    "deletable": true,
    "editable": true
   },
   "outputs": [],
   "source": [
    "store_names = []\n",
    "for i in range(1,35):   #don't include store 35 because its weather data was missing\n",
    "    store_names.append(\"store\" + str(i))\n",
    "for i in range(36,46):\n",
    "    store_names.append(\"store\" + str(i))\n",
    "    \n",
    "item_names = []  #don't include items 24, 63, 66 because those were only purchased at store 35 \n",
    "for i in range(1,24):\n",
    "    item_names.append(\"item\" + str(i))\n",
    "for i in range(25,63):\n",
    "    item_names.append(\"item\" + str(i))\n",
    "for i in range(64,66):\n",
    "    item_names.append(\"item\" + str(i))\n",
    "for i in range(67,112):\n",
    "    item_names.append(\"item\" + str(i))"
   ]
  },
  {
   "cell_type": "code",
   "execution_count": 112,
   "metadata": {
    "collapsed": false,
    "deletable": true,
    "editable": true
   },
   "outputs": [],
   "source": [
    "all_columns = [\"units\", \"store_nbr\", \"item_nbr\",\"Before3\",\"Before2\", \"Before1\", \"any_event\", \n",
    "                         \"After1\", \"After2\", \"After3\", \"month\", \"tmin\", \"tavg\", \"tmax\",\"is_weekend\",\n",
    "                         \"is_winter\" , \"leapday\", \"before_Valentines\" , \"before_4July\" ,\n",
    "                         \"is_holiday\", \"before_Xmas\", \"before_Memorial\" , \"before_NewYears\",  \"BlackFriday\" , \"before_Thanksgiving\",\n",
    "                         \"before_Easter\" , \"before_Halloween\" ]\n",
    "all_columns  = all_columns + store_names + item_names\n",
    "\n",
    "train_useful.columns = all_columns"
   ]
  },
  {
   "cell_type": "code",
   "execution_count": 113,
   "metadata": {
    "collapsed": false,
    "deletable": true,
    "editable": true
   },
   "outputs": [
    {
     "data": {
      "text/html": [
       "<div>\n",
       "<table border=\"1\" class=\"dataframe\">\n",
       "  <thead>\n",
       "    <tr style=\"text-align: right;\">\n",
       "      <th></th>\n",
       "      <th>units</th>\n",
       "      <th>store_nbr</th>\n",
       "      <th>item_nbr</th>\n",
       "      <th>Before3</th>\n",
       "      <th>Before2</th>\n",
       "      <th>Before1</th>\n",
       "      <th>any_event</th>\n",
       "      <th>After1</th>\n",
       "      <th>After2</th>\n",
       "      <th>After3</th>\n",
       "      <th>...</th>\n",
       "      <th>item102</th>\n",
       "      <th>item103</th>\n",
       "      <th>item104</th>\n",
       "      <th>item105</th>\n",
       "      <th>item106</th>\n",
       "      <th>item107</th>\n",
       "      <th>item108</th>\n",
       "      <th>item109</th>\n",
       "      <th>item110</th>\n",
       "      <th>item111</th>\n",
       "    </tr>\n",
       "  </thead>\n",
       "  <tbody>\n",
       "    <tr>\n",
       "      <th>0</th>\n",
       "      <td>29.0</td>\n",
       "      <td>1.0</td>\n",
       "      <td>9.0</td>\n",
       "      <td>0.0</td>\n",
       "      <td>0.0</td>\n",
       "      <td>0.0</td>\n",
       "      <td>0.0</td>\n",
       "      <td>0.0</td>\n",
       "      <td>0.0</td>\n",
       "      <td>0.0</td>\n",
       "      <td>...</td>\n",
       "      <td>0.0</td>\n",
       "      <td>0.0</td>\n",
       "      <td>0.0</td>\n",
       "      <td>0.0</td>\n",
       "      <td>0.0</td>\n",
       "      <td>0.0</td>\n",
       "      <td>0.0</td>\n",
       "      <td>0.0</td>\n",
       "      <td>0.0</td>\n",
       "      <td>0.0</td>\n",
       "    </tr>\n",
       "    <tr>\n",
       "      <th>1</th>\n",
       "      <td>2.0</td>\n",
       "      <td>1.0</td>\n",
       "      <td>28.0</td>\n",
       "      <td>0.0</td>\n",
       "      <td>0.0</td>\n",
       "      <td>0.0</td>\n",
       "      <td>0.0</td>\n",
       "      <td>0.0</td>\n",
       "      <td>0.0</td>\n",
       "      <td>0.0</td>\n",
       "      <td>...</td>\n",
       "      <td>0.0</td>\n",
       "      <td>0.0</td>\n",
       "      <td>0.0</td>\n",
       "      <td>0.0</td>\n",
       "      <td>0.0</td>\n",
       "      <td>0.0</td>\n",
       "      <td>0.0</td>\n",
       "      <td>0.0</td>\n",
       "      <td>0.0</td>\n",
       "      <td>0.0</td>\n",
       "    </tr>\n",
       "    <tr>\n",
       "      <th>2</th>\n",
       "      <td>1.0</td>\n",
       "      <td>1.0</td>\n",
       "      <td>51.0</td>\n",
       "      <td>0.0</td>\n",
       "      <td>0.0</td>\n",
       "      <td>0.0</td>\n",
       "      <td>0.0</td>\n",
       "      <td>0.0</td>\n",
       "      <td>0.0</td>\n",
       "      <td>0.0</td>\n",
       "      <td>...</td>\n",
       "      <td>0.0</td>\n",
       "      <td>0.0</td>\n",
       "      <td>0.0</td>\n",
       "      <td>0.0</td>\n",
       "      <td>0.0</td>\n",
       "      <td>0.0</td>\n",
       "      <td>0.0</td>\n",
       "      <td>0.0</td>\n",
       "      <td>0.0</td>\n",
       "      <td>0.0</td>\n",
       "    </tr>\n",
       "    <tr>\n",
       "      <th>3</th>\n",
       "      <td>191.0</td>\n",
       "      <td>2.0</td>\n",
       "      <td>5.0</td>\n",
       "      <td>0.0</td>\n",
       "      <td>0.0</td>\n",
       "      <td>0.0</td>\n",
       "      <td>0.0</td>\n",
       "      <td>0.0</td>\n",
       "      <td>0.0</td>\n",
       "      <td>0.0</td>\n",
       "      <td>...</td>\n",
       "      <td>0.0</td>\n",
       "      <td>0.0</td>\n",
       "      <td>0.0</td>\n",
       "      <td>0.0</td>\n",
       "      <td>0.0</td>\n",
       "      <td>0.0</td>\n",
       "      <td>0.0</td>\n",
       "      <td>0.0</td>\n",
       "      <td>0.0</td>\n",
       "      <td>0.0</td>\n",
       "    </tr>\n",
       "    <tr>\n",
       "      <th>4</th>\n",
       "      <td>215.0</td>\n",
       "      <td>2.0</td>\n",
       "      <td>44.0</td>\n",
       "      <td>0.0</td>\n",
       "      <td>0.0</td>\n",
       "      <td>0.0</td>\n",
       "      <td>0.0</td>\n",
       "      <td>0.0</td>\n",
       "      <td>0.0</td>\n",
       "      <td>0.0</td>\n",
       "      <td>...</td>\n",
       "      <td>0.0</td>\n",
       "      <td>0.0</td>\n",
       "      <td>0.0</td>\n",
       "      <td>0.0</td>\n",
       "      <td>0.0</td>\n",
       "      <td>0.0</td>\n",
       "      <td>0.0</td>\n",
       "      <td>0.0</td>\n",
       "      <td>0.0</td>\n",
       "      <td>0.0</td>\n",
       "    </tr>\n",
       "  </tbody>\n",
       "</table>\n",
       "<p>5 rows × 179 columns</p>\n",
       "</div>"
      ],
      "text/plain": [
       "   units  store_nbr  item_nbr  Before3  Before2  Before1  any_event  After1  \\\n",
       "0   29.0        1.0       9.0      0.0      0.0      0.0        0.0     0.0   \n",
       "1    2.0        1.0      28.0      0.0      0.0      0.0        0.0     0.0   \n",
       "2    1.0        1.0      51.0      0.0      0.0      0.0        0.0     0.0   \n",
       "3  191.0        2.0       5.0      0.0      0.0      0.0        0.0     0.0   \n",
       "4  215.0        2.0      44.0      0.0      0.0      0.0        0.0     0.0   \n",
       "\n",
       "   After2  After3   ...     item102  item103  item104  item105  item106  \\\n",
       "0     0.0     0.0   ...         0.0      0.0      0.0      0.0      0.0   \n",
       "1     0.0     0.0   ...         0.0      0.0      0.0      0.0      0.0   \n",
       "2     0.0     0.0   ...         0.0      0.0      0.0      0.0      0.0   \n",
       "3     0.0     0.0   ...         0.0      0.0      0.0      0.0      0.0   \n",
       "4     0.0     0.0   ...         0.0      0.0      0.0      0.0      0.0   \n",
       "\n",
       "   item107  item108  item109  item110  item111  \n",
       "0      0.0      0.0      0.0      0.0      0.0  \n",
       "1      0.0      0.0      0.0      0.0      0.0  \n",
       "2      0.0      0.0      0.0      0.0      0.0  \n",
       "3      0.0      0.0      0.0      0.0      0.0  \n",
       "4      0.0      0.0      0.0      0.0      0.0  \n",
       "\n",
       "[5 rows x 179 columns]"
      ]
     },
     "execution_count": 113,
     "metadata": {},
     "output_type": "execute_result"
    }
   ],
   "source": [
    "train_useful.head()"
   ]
  },
  {
   "cell_type": "code",
   "execution_count": 114,
   "metadata": {
    "collapsed": true,
    "deletable": true,
    "editable": true
   },
   "outputs": [],
   "source": [
    "del train_useful[\"store_nbr\"]\n",
    "del train_useful[\"item_nbr\"]"
   ]
  },
  {
   "cell_type": "markdown",
   "metadata": {
    "deletable": true,
    "editable": true
   },
   "source": [
    "Turn the dataframe to a matrix:"
   ]
  },
  {
   "cell_type": "code",
   "execution_count": 115,
   "metadata": {
    "collapsed": false,
    "deletable": true,
    "editable": true
   },
   "outputs": [
    {
     "name": "stdout",
     "output_type": "stream",
     "text": [
      "(116100, 176)\n",
      "(116100,)\n"
     ]
    }
   ],
   "source": [
    "mat_train = train_useful.as_matrix()\n",
    "X_train_all = mat_train[:,1:]\n",
    "y_train_all = mat_train[:, 0]\n",
    "\n",
    "print(X_train_all.shape)\n",
    "print(y_train_all.shape)"
   ]
  },
  {
   "cell_type": "markdown",
   "metadata": {
    "deletable": true,
    "editable": true
   },
   "source": [
    "### Random Forest Model"
   ]
  },
  {
   "cell_type": "code",
   "execution_count": 13,
   "metadata": {
    "collapsed": true,
    "deletable": true,
    "editable": true
   },
   "outputs": [],
   "source": [
    "# test/train split:   \n",
    "from sklearn.model_selection import train_test_split \n",
    "X_train, X_test, y_train, y_test = train_test_split(X_train_all, y_train_all)    "
   ]
  },
  {
   "cell_type": "markdown",
   "metadata": {
    "deletable": true,
    "editable": true
   },
   "source": [
    "Run random forest by 10-fold cross validation and print the r^2 values."
   ]
  },
  {
   "cell_type": "code",
   "execution_count": 123,
   "metadata": {
    "collapsed": false,
    "deletable": true,
    "editable": true
   },
   "outputs": [],
   "source": [
    "from sklearn.ensemble import RandomForestRegressor\n",
    "from sklearn.model_selection import cross_val_score\n",
    "rf = RandomForestRegressor(n_estimators=100, min_samples_leaf=20 ,oob_score = True)\n",
    "rf.fit(X_train, y_train)\n",
    "scores = cross_val_score(rf, X_train_all, y_train_all, cv=5, scoring = \"neg_mean_squared_error\")"
   ]
  },
  {
   "cell_type": "code",
   "execution_count": 124,
   "metadata": {
    "collapsed": false
   },
   "outputs": [
    {
     "name": "stdout",
     "output_type": "stream",
     "text": [
      "[ 26.99124007  43.99602673  22.68725834  32.16791413  24.34931797]\n",
      "30.0383514497\n"
     ]
    }
   ],
   "source": [
    "print(np.sqrt(scores*-1))\n",
    "print(np.mean(np.sqrt(scores*-1)))"
   ]
  },
  {
   "cell_type": "code",
   "execution_count": 20,
   "metadata": {
    "collapsed": false
   },
   "outputs": [
    {
     "name": "stdout",
     "output_type": "stream",
     "text": [
      "[ 0.70602233  0.47629983  0.75796505  0.5770556   0.56052514]\n"
     ]
    }
   ],
   "source": [
    "scores_r2 = cross_val_score(rf, X_train_all, y_train_all, cv=5, scoring = \"r2\")\n",
    "print(scores_r2)"
   ]
  },
  {
   "cell_type": "code",
   "execution_count": 21,
   "metadata": {
    "collapsed": false
   },
   "outputs": [
    {
     "data": {
      "text/plain": [
       "0.61557359227885367"
      ]
     },
     "execution_count": 21,
     "metadata": {},
     "output_type": "execute_result"
    }
   ],
   "source": [
    "np.mean(scores_r2)"
   ]
  },
  {
   "cell_type": "code",
   "execution_count": 146,
   "metadata": {
    "collapsed": false,
    "deletable": true,
    "editable": true
   },
   "outputs": [
    {
     "name": "stdout",
     "output_type": "stream",
     "text": [
      "Accuracy: 0.49 (+/- 0.30)\n"
     ]
    }
   ],
   "source": [
    "print(\"Accuracy: %0.2f (+/- %0.2f)\" % (scores_mse.mean(), scores_mse.std() * 2))"
   ]
  },
  {
   "cell_type": "code",
   "execution_count": 142,
   "metadata": {
    "collapsed": false,
    "deletable": true,
    "editable": true
   },
   "outputs": [],
   "source": [
    "y_pred = rf.predict(X_test)"
   ]
  },
  {
   "cell_type": "code",
   "execution_count": 143,
   "metadata": {
    "collapsed": false,
    "deletable": true,
    "editable": true
   },
   "outputs": [
    {
     "data": {
      "text/plain": [
       "30.722513124063145"
      ]
     },
     "execution_count": 143,
     "metadata": {},
     "output_type": "execute_result"
    }
   ],
   "source": [
    "from sklearn.metrics import mean_squared_error\n",
    "np.sqrt(mean_squared_error(y_test, y_pred))"
   ]
  },
  {
   "cell_type": "code",
   "execution_count": 144,
   "metadata": {
    "collapsed": false,
    "deletable": true,
    "editable": true
   },
   "outputs": [
    {
     "data": {
      "text/plain": [
       "array([ 48.,  54.,  16., ...,   3.,   2.,   2.])"
      ]
     },
     "execution_count": 144,
     "metadata": {},
     "output_type": "execute_result"
    }
   ],
   "source": [
    "y_test"
   ]
  },
  {
   "cell_type": "code",
   "execution_count": 108,
   "metadata": {
    "collapsed": false,
    "deletable": true,
    "editable": true,
    "scrolled": true
   },
   "outputs": [
    {
     "data": {
      "text/plain": [
       "array([ 40.16833476,  78.62168103,  56.6875    , ...,  86.04883416,\n",
       "        58.71875624,  78.22743302])"
      ]
     },
     "execution_count": 108,
     "metadata": {},
     "output_type": "execute_result"
    }
   ],
   "source": [
    "predictions"
   ]
  },
  {
   "cell_type": "markdown",
   "metadata": {
    "deletable": true,
    "editable": true
   },
   "source": [
    "### Feature Importance Plots"
   ]
  },
  {
   "cell_type": "code",
   "execution_count": 150,
   "metadata": {
    "collapsed": true,
    "deletable": true,
    "editable": true
   },
   "outputs": [],
   "source": [
    "importances = rf.feature_importances_\n",
    "indices = np.argsort(importances)[::-1]"
   ]
  },
  {
   "cell_type": "code",
   "execution_count": 152,
   "metadata": {
    "collapsed": false,
    "deletable": true,
    "editable": true
   },
   "outputs": [
    {
     "data": {
      "image/png": "[encoded data removed]",
      "text/plain": [
       "<matplotlib.figure.Figure at 0x2950663ae80>"
      ]
     },
     "metadata": {},
     "output_type": "display_data"
    },
    {
     "data": {
      "image/png": "[encoded data removed]",
      "text/plain": [
       "<matplotlib.figure.Figure at 0x2952c450fd0>"
      ]
     },
     "metadata": {},
     "output_type": "display_data"
    },
    {
     "data": {
      "image/png": "[encoded data removed]",
      "text/plain": [
       "<matplotlib.figure.Figure at 0x2952c4b1198>"
      ]
     },
     "metadata": {},
     "output_type": "display_data"
    }
   ],
   "source": [
    "import matplotlib.pyplot as plt\n",
    "plt.figure()\n",
    "plt.title(\"Feature importances\")\n",
    "plt.bar(range(X_train_all.shape[1]), importances[indices],\n",
    "       color=\"r\", align=\"center\")\n",
    "plt.xticks(range(X_train_all.shape[1]), indices)\n",
    "plt.xlim([-1, X_train_all.shape[1]])\n",
    "plt.show()"
   ]
  },
  {
   "cell_type": "code",
   "execution_count": 154,
   "metadata": {
    "collapsed": false,
    "deletable": true,
    "editable": true
   },
   "outputs": [
    {
     "name": "stdout",
     "output_type": "stream",
     "text": [
      "Feature ranking:\n",
      "1. feature 110 (0.129545)\n",
      "2. feature 9 (0.078233)\n",
      "3. feature 8 (0.073667)\n",
      "4. feature 10 (0.066038)\n",
      "5. feature 111 (0.058443)\n",
      "6. feature 59 (0.057414)\n",
      "7. feature 7 (0.055525)\n",
      "8. feature 76 (0.051735)\n",
      "9. feature 72 (0.046753)\n",
      "10. feature 56 (0.037796)\n",
      "11. feature 40 (0.034981)\n",
      "12. feature 91 (0.027135)\n",
      "13. feature 114 (0.026203)\n",
      "14. feature 12 (0.024726)\n",
      "15. feature 39 (0.019231)\n",
      "16. feature 11 (0.019077)\n",
      "17. feature 27 (0.016154)\n",
      "18. feature 48 (0.013236)\n",
      "19. feature 37 (0.012842)\n",
      "20. feature 36 (0.011238)\n",
      "21. feature 53 (0.010439)\n",
      "22. feature 83 (0.009447)\n",
      "23. feature 25 (0.009434)\n",
      "24. feature 132 (0.009301)\n",
      "25. feature 102 (0.006860)\n",
      "26. feature 47 (0.006484)\n",
      "27. feature 60 (0.006373)\n",
      "28. feature 103 (0.005924)\n",
      "29. feature 38 (0.004108)\n",
      "30. feature 41 (0.003938)\n",
      "31. feature 46 (0.003726)\n",
      "32. feature 30 (0.003199)\n",
      "33. feature 57 (0.002921)\n",
      "34. feature 135 (0.002899)\n",
      "35. feature 43 (0.002847)\n",
      "36. feature 61 (0.002628)\n",
      "37. feature 126 (0.002179)\n",
      "38. feature 14 (0.002147)\n",
      "39. feature 54 (0.002051)\n",
      "40. feature 107 (0.001951)\n",
      "41. feature 67 (0.001935)\n",
      "42. feature 26 (0.001717)\n",
      "43. feature 15 (0.001611)\n",
      "44. feature 6 (0.001574)\n",
      "45. feature 3 (0.001511)\n",
      "46. feature 4 (0.001463)\n",
      "47. feature 22 (0.001407)\n",
      "48. feature 33 (0.001362)\n",
      "49. feature 52 (0.001297)\n",
      "50. feature 17 (0.001245)\n",
      "51. feature 2 (0.001243)\n",
      "52. feature 21 (0.001171)\n",
      "53. feature 75 (0.001149)\n",
      "54. feature 29 (0.001145)\n",
      "55. feature 0 (0.001120)\n",
      "56. feature 23 (0.001106)\n",
      "57. feature 1 (0.001061)\n",
      "58. feature 140 (0.001032)\n",
      "59. feature 18 (0.001014)\n",
      "60. feature 5 (0.000982)\n",
      "61. feature 62 (0.000912)\n",
      "62. feature 32 (0.000854)\n",
      "63. feature 49 (0.000804)\n",
      "64. feature 42 (0.000794)\n",
      "65. feature 51 (0.000758)\n",
      "66. feature 16 (0.000753)\n",
      "67. feature 64 (0.000707)\n",
      "68. feature 66 (0.000622)\n",
      "69. feature 55 (0.000621)\n",
      "70. feature 19 (0.000559)\n",
      "71. feature 90 (0.000554)\n",
      "72. feature 24 (0.000552)\n",
      "73. feature 159 (0.000529)\n",
      "74. feature 45 (0.000479)\n",
      "75. feature 44 (0.000438)\n",
      "76. feature 58 (0.000425)\n",
      "77. feature 161 (0.000417)\n",
      "78. feature 31 (0.000403)\n",
      "79. feature 28 (0.000355)\n",
      "80. feature 34 (0.000334)\n",
      "81. feature 50 (0.000316)\n",
      "82. feature 65 (0.000277)\n",
      "83. feature 109 (0.000268)\n",
      "84. feature 73 (0.000241)\n",
      "85. feature 122 (0.000238)\n",
      "86. feature 74 (0.000224)\n",
      "87. feature 63 (0.000218)\n",
      "88. feature 93 (0.000194)\n",
      "89. feature 157 (0.000174)\n",
      "90. feature 20 (0.000149)\n",
      "91. feature 131 (0.000125)\n",
      "92. feature 145 (0.000114)\n",
      "93. feature 147 (0.000113)\n",
      "94. feature 35 (0.000100)\n",
      "95. feature 82 (0.000084)\n",
      "96. feature 13 (0.000071)\n",
      "97. feature 108 (0.000062)\n",
      "98. feature 173 (0.000040)\n",
      "99. feature 174 (0.000033)\n",
      "100. feature 172 (0.000026)\n",
      "101. feature 104 (0.000017)\n",
      "102. feature 92 (0.000011)\n",
      "103. feature 113 (0.000009)\n",
      "104. feature 69 (0.000007)\n",
      "105. feature 116 (0.000005)\n",
      "106. feature 94 (0.000005)\n",
      "107. feature 117 (0.000005)\n",
      "108. feature 142 (0.000003)\n",
      "109. feature 115 (0.000002)\n",
      "110. feature 160 (0.000002)\n",
      "111. feature 141 (0.000002)\n",
      "112. feature 124 (0.000002)\n",
      "113. feature 112 (0.000001)\n",
      "114. feature 129 (0.000001)\n",
      "115. feature 175 (0.000001)\n",
      "116. feature 105 (0.000001)\n",
      "117. feature 138 (0.000001)\n",
      "118. feature 127 (0.000001)\n",
      "119. feature 68 (0.000001)\n",
      "120. feature 130 (0.000001)\n",
      "121. feature 121 (0.000001)\n",
      "122. feature 136 (0.000001)\n",
      "123. feature 171 (0.000001)\n",
      "124. feature 162 (0.000001)\n",
      "125. feature 80 (0.000001)\n",
      "126. feature 118 (0.000001)\n",
      "127. feature 139 (0.000001)\n",
      "128. feature 84 (0.000000)\n",
      "129. feature 78 (0.000000)\n",
      "130. feature 70 (0.000000)\n",
      "131. feature 100 (0.000000)\n",
      "132. feature 134 (0.000000)\n",
      "133. feature 169 (0.000000)\n",
      "134. feature 106 (0.000000)\n",
      "135. feature 98 (0.000000)\n",
      "136. feature 151 (0.000000)\n",
      "137. feature 133 (0.000000)\n",
      "138. feature 150 (0.000000)\n",
      "139. feature 155 (0.000000)\n",
      "140. feature 154 (0.000000)\n",
      "141. feature 97 (0.000000)\n",
      "142. feature 88 (0.000000)\n",
      "143. feature 168 (0.000000)\n",
      "144. feature 77 (0.000000)\n",
      "145. feature 156 (0.000000)\n",
      "146. feature 128 (0.000000)\n",
      "147. feature 143 (0.000000)\n",
      "148. feature 101 (0.000000)\n",
      "149. feature 163 (0.000000)\n",
      "150. feature 95 (0.000000)\n",
      "151. feature 87 (0.000000)\n",
      "152. feature 96 (0.000000)\n",
      "153. feature 164 (0.000000)\n",
      "154. feature 86 (0.000000)\n",
      "155. feature 165 (0.000000)\n",
      "156. feature 79 (0.000000)\n",
      "157. feature 149 (0.000000)\n",
      "158. feature 158 (0.000000)\n",
      "159. feature 119 (0.000000)\n",
      "160. feature 123 (0.000000)\n",
      "161. feature 170 (0.000000)\n",
      "162. feature 137 (0.000000)\n",
      "163. feature 148 (0.000000)\n",
      "164. feature 99 (0.000000)\n",
      "165. feature 144 (0.000000)\n",
      "166. feature 152 (0.000000)\n",
      "167. feature 125 (0.000000)\n",
      "168. feature 71 (0.000000)\n",
      "169. feature 167 (0.000000)\n",
      "170. feature 85 (0.000000)\n",
      "171. feature 146 (0.000000)\n",
      "172. feature 81 (0.000000)\n",
      "173. feature 89 (0.000000)\n",
      "174. feature 120 (0.000000)\n",
      "175. feature 153 (0.000000)\n",
      "176. feature 166 (0.000000)\n"
     ]
    }
   ],
   "source": [
    "print(\"Feature ranking:\")\n",
    "\n",
    "for f in range(X_train_all.shape[1]):\n",
    "    print(\"%d. feature %d (%f)\" % (f + 1, indices[f], importances[indices[f]]))\n"
   ]
  },
  {
   "cell_type": "markdown",
   "metadata": {},
   "source": [
    "## Random Forest on individual store/product pairs"
   ]
  },
  {
   "cell_type": "markdown",
   "metadata": {},
   "source": [
    "item 45, store 15 has 1011 rows"
   ]
  },
  {
   "cell_type": "code",
   "execution_count": 3,
   "metadata": {
    "collapsed": false
   },
   "outputs": [],
   "source": [
    "single = pd.read_csv(\"store15_item45.csv\")   \n",
    "del single[\"Unnamed: 0\"]"
   ]
  },
  {
   "cell_type": "code",
   "execution_count": 4,
   "metadata": {
    "collapsed": false
   },
   "outputs": [],
   "source": [
    "#columns with no NAs:\n",
    "single_useful =single[[\"units\", \"store_nbr\", \"item_nbr\",\"Before3\",\"Before2\", \"Before1\", \"any_event\", \n",
    "                         \"After1\", \"After2\", \"After3\", \"month\", \"tmin\", \"tavg\", \"tmax\", \"is_weekend\",\n",
    "                         \"is_winter\" , \"leapday\", \"before_Valentines\" , \"before_4July\" ,\n",
    "                         \"is_holiday\", \"before_Xmas\", \"before_Memorial\" , \"before_NewYears\",  \"BlackFriday\" , \"before_Thanksgiving\",\n",
    "                         \"before_Easter\" , \"before_Halloween\" ]]\n",
    "#removed dewpoint, result speed & result dir, avg speed cuz wasn't very significant in the regressino model "
   ]
  },
  {
   "cell_type": "code",
   "execution_count": 5,
   "metadata": {
    "collapsed": false
   },
   "outputs": [
    {
     "name": "stdout",
     "output_type": "stream",
     "text": [
      "(1011, 26)\n",
      "(1011,)\n"
     ]
    }
   ],
   "source": [
    "mat_train_single = single_useful.as_matrix()\n",
    "X_train_all_single = mat_train_single [:,1:]\n",
    "y_train_all_single = mat_train_single [:, 0]\n",
    "\n",
    "print(X_train_all_single.shape)\n",
    "print(y_train_all_single.shape)"
   ]
  },
  {
   "cell_type": "code",
   "execution_count": 61,
   "metadata": {
    "collapsed": true
   },
   "outputs": [],
   "source": [
    "# test/train split:   \n",
    "from sklearn.model_selection import train_test_split \n",
    "X_train, X_test, y_train, y_test = train_test_split(X_train_all_single, y_train_all_single)    "
   ]
  },
  {
   "cell_type": "code",
   "execution_count": 102,
   "metadata": {
    "collapsed": false
   },
   "outputs": [],
   "source": [
    "from sklearn.ensemble import RandomForestRegressor\n",
    "from sklearn.model_selection import cross_val_score\n",
    "\n",
    "rf = RandomForestRegressor(min_samples_split=5, max_features = 5, n_estimators = 25)\n",
    "#rf.fit(X_train, y_train)\n",
    "scores = cross_val_score(rf, X_train, y_train, cv=10, scoring = \"neg_mean_squared_error\")"
   ]
  },
  {
   "cell_type": "code",
   "execution_count": 103,
   "metadata": {
    "collapsed": false
   },
   "outputs": [
    {
     "name": "stdout",
     "output_type": "stream",
     "text": [
      "all mse's: [ 32.35526648  24.09234064  27.76544735  29.721169    30.60749869\n",
      "  26.43324084  36.2413407   27.70080731  25.33278367  28.01017957]\n",
      "mean mse: 28.8260074266\n"
     ]
    }
   ],
   "source": [
    "print(\"all mse's:\",  np.sqrt(scores*-1))\n",
    "print(\"mean mse:\", np.mean(np.sqrt(scores*-1)))"
   ]
  },
  {
   "cell_type": "code",
   "execution_count": 85,
   "metadata": {
    "collapsed": false
   },
   "outputs": [
    {
     "data": {
      "text/plain": [
       "27.987834119874595"
      ]
     },
     "execution_count": 85,
     "metadata": {},
     "output_type": "execute_result"
    }
   ],
   "source": [
    "rf.fit( X_train, y_train)\n",
    "y_pred = rf.predict(X_test)\n",
    "from sklearn.metrics import mean_squared_error\n",
    "mean_squared_error(y_test, y_pred)**0.5\n"
   ]
  },
  {
   "cell_type": "code",
   "execution_count": 56,
   "metadata": {
    "collapsed": true
   },
   "outputs": [],
   "source": [
    "scores = cross_val_score(rf, X_train_all_single, y_train_all_single, cv=10, scoring = \"r2\")"
   ]
  },
  {
   "cell_type": "code",
   "execution_count": 57,
   "metadata": {
    "collapsed": false
   },
   "outputs": [
    {
     "name": "stdout",
     "output_type": "stream",
     "text": [
      "all r2's: [-0.13324797 -0.3183643  -0.2466361  -0.07035961  0.26098712 -0.39389686\n",
      "  0.01651411 -2.24220366 -5.29179971 -5.16228907]\n",
      "mean r2: -1.35812960726\n"
     ]
    }
   ],
   "source": [
    "print(\"all r2's:\",  scores)\n",
    "print(\"mean r2:\", np.mean(scores))"
   ]
  },
  {
   "cell_type": "code",
   "execution_count": 105,
   "metadata": {
    "collapsed": false
   },
   "outputs": [
    {
     "data": {
      "text/plain": [
       "array([ 112.46866667,   93.57927273,  101.0722381 , ...,   63.26439394,\n",
       "         49.92052381,   55.68295238])"
      ]
     },
     "execution_count": 105,
     "metadata": {},
     "output_type": "execute_result"
    }
   ],
   "source": [
    "rf.fit( X_train_all_single, y_train_all_single)\n",
    "rf.predict(X_train_all_single)"
   ]
  },
  {
   "cell_type": "code",
   "execution_count": 106,
   "metadata": {
    "collapsed": false
   },
   "outputs": [
    {
     "data": {
      "text/plain": [
       "0.74388162295586668"
      ]
     },
     "execution_count": 106,
     "metadata": {},
     "output_type": "execute_result"
    }
   ],
   "source": [
    "rf.score(X_train_all_single, y_train_all_single)"
   ]
  }
 ],
 "metadata": {
  "kernelspec": {
   "display_name": "Python [Root]",
   "language": "python",
   "name": "Python [Root]"
  },
  "language_info": {
   "codemirror_mode": {
    "name": "ipython",
    "version": 3
   },
   "file_extension": ".py",
   "mimetype": "text/x-python",
   "name": "python",
   "nbconvert_exporter": "python",
   "pygments_lexer": "ipython3",
   "version": "3.5.2"
  }
 },
 "nbformat": 4,
 "nbformat_minor": 2
}
